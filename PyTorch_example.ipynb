{
 "cells": [
  {
   "cell_type": "markdown",
   "metadata": {},
   "source": [
    "# Basic commands of Tensors"
   ]
  },
  {
   "cell_type": "markdown",
   "metadata": {},
   "source": [
    "Tensor are used to storage multi-dimensional data, If you are familiar with Numpy we used by but associate as numpy.arrays. Tensor is fundamental in DP applications to represent input data as *arrays* for example to represent the color image as 3D tensor."
   ]
  },
  {
   "cell_type": "markdown",
   "metadata": {},
   "source": [
    "## Tensors in PyTorch\n",
    "\n",
    "PyTorch has eith types: 3 float types (16, 32, 64 bit) and five integer types (8 signed, 8 unsigned, 16, 32, 64 bit). We have to represent them by different classes and the most common are **torch.FloatTensor** (being 32-bit), **torch.ByteTensor** (8-bit unsigned integer) and **torch.LongTensor** (64-bit signed integer).\n",
    "\n",
    "Let us see some basic commands to call tensors:"
   ]
  },
  {
   "cell_type": "code",
   "execution_count": 3,
   "metadata": {},
   "outputs": [
    {
     "name": "stdout",
     "output_type": "stream",
     "text": [
      "tensor([[2.1858e-04, 1.1966e+22],\n",
      "        [3.1097e-18, 6.4805e-10],\n",
      "        [6.3007e-10, 4.2242e-05]])\n"
     ]
    }
   ],
   "source": [
    "import torch # PyTorch library\n",
    "a = torch.FloatTensor(3, 2) # tensor with 3 rows and 2 columns\n",
    "print(a)"
   ]
  },
  {
   "cell_type": "markdown",
   "metadata": {},
   "source": [
    "PyTorch allocates memory for the tensor but it is empty.\n",
    "\n",
    "We can clear the content with the following operation:"
   ]
  },
  {
   "cell_type": "code",
   "execution_count": 5,
   "metadata": {},
   "outputs": [
    {
     "name": "stdout",
     "output_type": "stream",
     "text": [
      "tensor([[0., 0.],\n",
      "        [0., 0.],\n",
      "        [0., 0.]])\n"
     ]
    }
   ],
   "source": [
    "print(a.zero_())"
   ]
  },
  {
   "cell_type": "markdown",
   "metadata": {},
   "source": [
    "**Pay attention**! PyTorch has two operations for tensors - *inplace* and *functional*. *Inplace* operation has an underscore, as below, to operate on the tensor's content. Coversely, the *Functional* operation creates a **copy** of the tensor with the operation, leaving the original tensor untouched. This example it would copy the tensor *a* with zero content."
   ]
  },
  {
   "cell_type": "code",
   "execution_count": 7,
   "metadata": {},
   "outputs": [
    {
     "name": "stdout",
     "output_type": "stream",
     "text": [
      "tensor([[1., 2., 3.],\n",
      "        [3., 2., 1.]])\n"
     ]
    }
   ],
   "source": [
    "# Initialize tensor with content\n",
    "b = torch.FloatTensor([[1, 2, 3], [3, 2, 1]]) # As we are creating numpy.array\n",
    "print(b)"
   ]
  },
  {
   "cell_type": "markdown",
   "metadata": {},
   "source": [
    "Alternative example of creating the same tensor from numpy.array"
   ]
  },
  {
   "cell_type": "code",
   "execution_count": 10,
   "metadata": {},
   "outputs": [
    {
     "name": "stdout",
     "output_type": "stream",
     "text": [
      "[[0. 0.]\n",
      " [0. 0.]\n",
      " [0. 0.]]\n"
     ]
    }
   ],
   "source": [
    "# Other example\n",
    "import numpy as np\n",
    "c = np.zeros(shape=(3,2)) # size = 3x2\n",
    "print(c)"
   ]
  },
  {
   "cell_type": "code",
   "execution_count": 11,
   "metadata": {},
   "outputs": [],
   "source": [
    "d = torch.tensor(c) # Tensor form class FloatTensor(64-bit) with the content of c"
   ]
  },
  {
   "cell_type": "code",
   "execution_count": 17,
   "metadata": {},
   "outputs": [
    {
     "name": "stdout",
     "output_type": "stream",
     "text": [
      "tensor([[1, 2, 3],\n",
      "        [4, 5, 6]])\n"
     ]
    }
   ],
   "source": [
    "# Example with different content\n",
    "e = np.array([[1, 2, 3], [4, 5, 6]])\n",
    "f = torch.tensor(e)\n",
    "print(f)"
   ]
  },
  {
   "cell_type": "markdown",
   "metadata": {},
   "source": [
    "## Operations with tensors\n",
    "\n",
    "We have scalar tensors created in the same way as above (*a = torch.tensor(1)*) but they can also result from operations."
   ]
  },
  {
   "cell_type": "code",
   "execution_count": 18,
   "metadata": {},
   "outputs": [
    {
     "name": "stdout",
     "output_type": "stream",
     "text": [
      "tensor(21)\n"
     ]
    }
   ],
   "source": [
    "s = f.sum()\n",
    "print(s)"
   ]
  },
  {
   "cell_type": "code",
   "execution_count": 19,
   "metadata": {},
   "outputs": [
    {
     "name": "stdout",
     "output_type": "stream",
     "text": [
      "21\n"
     ]
    }
   ],
   "source": [
    "# How do we get the content of the tensor?\n",
    "print(s.item())"
   ]
  },
  {
   "cell_type": "markdown",
   "metadata": {},
   "source": [
    "**Voilá!!!**"
   ]
  },
  {
   "cell_type": "code",
   "execution_count": 20,
   "metadata": {},
   "outputs": [
    {
     "data": {
      "text/plain": [
       "tensor([[1., 1.],\n",
       "        [1., 1.],\n",
       "        [1., 1.]])"
      ]
     },
     "execution_count": 20,
     "metadata": {},
     "output_type": "execute_result"
    }
   ],
   "source": [
    "# Operations with tensors\n",
    "a + 1"
   ]
  },
  {
   "cell_type": "code",
   "execution_count": 26,
   "metadata": {},
   "outputs": [
    {
     "name": "stdout",
     "output_type": "stream",
     "text": [
      "tensor([[2., 4., 6.],\n",
      "        [7., 7., 7.]], dtype=torch.float64)\n",
      "tensor(33., dtype=torch.float64)\n"
     ]
    }
   ],
   "source": [
    "# Other example\n",
    "v_sum = b + e\n",
    "print(v_sum) # element-wise sum\n",
    "print(v_sum.sum()) # total sum"
   ]
  },
  {
   "cell_type": "code",
   "execution_count": null,
   "metadata": {},
   "outputs": [],
   "source": []
  }
 ],
 "metadata": {
  "kernelspec": {
   "display_name": "RL_env",
   "language": "python",
   "name": "rl_env"
  },
  "language_info": {
   "codemirror_mode": {
    "name": "ipython",
    "version": 3
   },
   "file_extension": ".py",
   "mimetype": "text/x-python",
   "name": "python",
   "nbconvert_exporter": "python",
   "pygments_lexer": "ipython3",
   "version": "3.7.7"
  }
 },
 "nbformat": 4,
 "nbformat_minor": 4
}
